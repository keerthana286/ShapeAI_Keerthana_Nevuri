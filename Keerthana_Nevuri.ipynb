{
  "nbformat": 4,
  "nbformat_minor": 0,
  "metadata": {
    "colab": {
      "name": "Keerthana Nevuri.ipynb",
      "provenance": []
    },
    "kernelspec": {
      "name": "python3",
      "display_name": "Python 3"
    },
    "language_info": {
      "name": "python"
    }
  },
  "cells": [
    {
      "cell_type": "code",
      "metadata": {
        "id": "7-W5NqZEAeGY"
      },
      "source": [
        "from keras.datasets import mnist \n",
        "data =mnist.load_data() "
      ],
      "execution_count": 42,
      "outputs": []
    },
    {
      "cell_type": "code",
      "metadata": {
        "id": "wqeYfauWAjdl"
      },
      "source": [
        "(X_train,y_train),(X_test,y_test)=data"
      ],
      "execution_count": null,
      "outputs": []
    },
    {
      "cell_type": "code",
      "metadata": {
        "id": "r0EMaLb5AsLA"
      },
      "source": [
        "X_train = X_train.reshape((X_train.shape[0],28*28)).astype('float32')\n",
        "X_test = X_test.reshape((X_test.shape[0],28*28)).astype('float32')"
      ],
      "execution_count": null,
      "outputs": []
    },
    {
      "cell_type": "code",
      "metadata": {
        "id": "BL5LguPVIQxZ"
      },
      "source": [
        "X_train=X_train/255\n",
        "X_test=X_test/255"
      ],
      "execution_count": null,
      "outputs": []
    },
    {
      "cell_type": "code",
      "metadata": {
        "id": "b5yVCUCEIaFU"
      },
      "source": [
        "from keras.utils import np_utils\n",
        "print(y_test.shape)\n",
        "y_train = np_utils.to_categorical(y_train)\n",
        "y_test = np_utils.to_categorical(y_test)\n",
        "num_classes=y_test.shape[1]\n",
        "print(y_test.shape)"
      ],
      "execution_count": null,
      "outputs": []
    },
    {
      "cell_type": "code",
      "metadata": {
        "id": "0L5zXRyMI6Nj"
      },
      "source": [
        "from keras.models import Sequential\n",
        "from keras.layers import Dense"
      ],
      "execution_count": null,
      "outputs": []
    },
    {
      "cell_type": "code",
      "metadata": {
        "id": "kww4QMzkJI-n"
      },
      "source": [
        "#define model\n",
        "model=Sequential()\n",
        "\n",
        "#add first hidden layer\n",
        "model.add(Dense(32,input_dim=28*28,activation='relu'))\n",
        "\n",
        "#add second hidden layer\n",
        "model.add(Dense(64,activation='relu'))\n",
        "\n",
        "#add o/p layer having 10 neurons(since there are 10 classes/sategories in target variable)\n",
        "model.add(Dense(10,activation='softmax'))"
      ],
      "execution_count": null,
      "outputs": []
    },
    {
      "cell_type": "code",
      "metadata": {
        "id": "tbJ7SNJ7Jy_h"
      },
      "source": [
        "model.compile(loss='categorical_crossentropy', optimizer='adam', metrics=['accuracy'])"
      ],
      "execution_count": null,
      "outputs": []
    },
    {
      "cell_type": "code",
      "metadata": {
        "id": "hv5x2y7TKHKY"
      },
      "source": [
        "model.summary()"
      ],
      "execution_count": null,
      "outputs": []
    },
    {
      "cell_type": "code",
      "metadata": {
        "id": "1OyFX19_KP2h"
      },
      "source": [
        "model.fit(X_train, y_train, epochs=10, batch_size=100) "
      ],
      "execution_count": null,
      "outputs": []
    },
    {
      "cell_type": "code",
      "metadata": {
        "colab": {
          "base_uri": "https://localhost:8080/"
        },
        "id": "DhkdpcpCKc93",
        "outputId": "cd6ddf50-afbe-4896-93fc-67032b28639f"
      },
      "source": [
        "scores=model.evaluate(X_test,y_test)\n",
        "print(scores)"
      ],
      "execution_count": 54,
      "outputs": [
        {
          "output_type": "stream",
          "text": [
            "313/313 [==============================] - 0s 929us/step - loss: 0.1141 - accuracy: 0.9657\n",
            "[0.11411619931459427, 0.9656999707221985]\n"
          ],
          "name": "stdout"
        }
      ]
    }
  ]
}